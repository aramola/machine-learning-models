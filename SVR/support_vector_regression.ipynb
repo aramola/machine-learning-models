import numpy as np
import matplotlib.pyplot as plt
import pandas as pd

dataset = pd.read_csv('Position_Salaries.csv')
X = dataset.iloc[:, 1:-1].values
y = dataset.iloc[:, 2:3].values
print(X)
print(y)
y = y.reshape(len(y),1)
from sklearn.preprocessing import StandardScaler
sc_X = StandardScaler()
sc_y = StandardScaler()
X = sc_X.fit_transform(X)
y = sc_y.fit_transform(y)

from sklearn.svm import SVR
regressor = SVR(kernel = 'rbf')

sc_y.inverse_transform(regressor.predict(sc_X.transform([[6.5]])).reshape(-1,1))
regressor.fit(X, y)
